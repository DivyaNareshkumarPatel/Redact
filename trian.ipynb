{
 "cells": [
  {
   "cell_type": "code",
   "execution_count": 1,
   "id": "0cdc50b9-6c86-4f53-a41e-cff8fd2a174e",
   "metadata": {},
   "outputs": [
    {
     "name": "stderr",
     "output_type": "stream",
     "text": [
      "2024-09-13 23:05:47.293183: I tensorflow/core/util/port.cc:113] oneDNN custom operations are on. You may see slightly different numerical results due to floating-point round-off errors from different computation orders. To turn them off, set the environment variable `TF_ENABLE_ONEDNN_OPTS=0`.\n",
      "2024-09-13 23:05:47.329496: E external/local_xla/xla/stream_executor/cuda/cuda_dnn.cc:9261] Unable to register cuDNN factory: Attempting to register factory for plugin cuDNN when one has already been registered\n",
      "2024-09-13 23:05:47.329533: E external/local_xla/xla/stream_executor/cuda/cuda_fft.cc:607] Unable to register cuFFT factory: Attempting to register factory for plugin cuFFT when one has already been registered\n",
      "2024-09-13 23:05:47.330694: E external/local_xla/xla/stream_executor/cuda/cuda_blas.cc:1515] Unable to register cuBLAS factory: Attempting to register factory for plugin cuBLAS when one has already been registered\n",
      "2024-09-13 23:05:47.340987: I tensorflow/core/platform/cpu_feature_guard.cc:182] This TensorFlow binary is optimized to use available CPU instructions in performance-critical operations.\n",
      "To enable the following instructions: AVX2 AVX_VNNI FMA, in other operations, rebuild TensorFlow with the appropriate compiler flags.\n",
      "2024-09-13 23:05:47.914686: W tensorflow/compiler/tf2tensorrt/utils/py_utils.cc:38] TF-TRT Warning: Could not find TensorRT\n"
     ]
    }
   ],
   "source": [
    "import pandas as pd\n",
    "import numpy as np\n",
    "import tensorflow as tf"
   ]
  },
  {
   "cell_type": "code",
   "execution_count": 2,
   "id": "a5aaaa2e-5f32-43e4-92d6-fce1b860107a",
   "metadata": {},
   "outputs": [
    {
     "name": "stdout",
     "output_type": "stream",
     "text": [
      "Num GPUs Available:  1\n"
     ]
    },
    {
     "name": "stderr",
     "output_type": "stream",
     "text": [
      "2024-09-13 23:05:48.419162: I external/local_xla/xla/stream_executor/cuda/cuda_executor.cc:887] could not open file to read NUMA node: /sys/bus/pci/devices/0000:01:00.0/numa_node\n",
      "Your kernel may have been built without NUMA support.\n",
      "2024-09-13 23:05:48.485966: I external/local_xla/xla/stream_executor/cuda/cuda_executor.cc:887] could not open file to read NUMA node: /sys/bus/pci/devices/0000:01:00.0/numa_node\n",
      "Your kernel may have been built without NUMA support.\n",
      "2024-09-13 23:05:48.486019: I external/local_xla/xla/stream_executor/cuda/cuda_executor.cc:887] could not open file to read NUMA node: /sys/bus/pci/devices/0000:01:00.0/numa_node\n",
      "Your kernel may have been built without NUMA support.\n"
     ]
    }
   ],
   "source": [
    "print(\"Num GPUs Available: \", len(tf.config.list_physical_devices('GPU')))"
   ]
  },
  {
   "cell_type": "code",
   "execution_count": 3,
   "id": "bc1ce7c9-8e34-4312-bc6f-73d583fa477a",
   "metadata": {},
   "outputs": [
    {
     "name": "stdout",
     "output_type": "stream",
     "text": [
      "1 Physical GPUs, 1 Logical GPUs\n"
     ]
    },
    {
     "name": "stderr",
     "output_type": "stream",
     "text": [
      "2024-09-13 23:05:48.504479: I external/local_xla/xla/stream_executor/cuda/cuda_executor.cc:887] could not open file to read NUMA node: /sys/bus/pci/devices/0000:01:00.0/numa_node\n",
      "Your kernel may have been built without NUMA support.\n",
      "2024-09-13 23:05:48.504582: I external/local_xla/xla/stream_executor/cuda/cuda_executor.cc:887] could not open file to read NUMA node: /sys/bus/pci/devices/0000:01:00.0/numa_node\n",
      "Your kernel may have been built without NUMA support.\n",
      "2024-09-13 23:05:48.504600: I external/local_xla/xla/stream_executor/cuda/cuda_executor.cc:887] could not open file to read NUMA node: /sys/bus/pci/devices/0000:01:00.0/numa_node\n",
      "Your kernel may have been built without NUMA support.\n",
      "2024-09-13 23:05:48.602142: I external/local_xla/xla/stream_executor/cuda/cuda_executor.cc:887] could not open file to read NUMA node: /sys/bus/pci/devices/0000:01:00.0/numa_node\n",
      "Your kernel may have been built without NUMA support.\n",
      "2024-09-13 23:05:48.602206: I external/local_xla/xla/stream_executor/cuda/cuda_executor.cc:887] could not open file to read NUMA node: /sys/bus/pci/devices/0000:01:00.0/numa_node\n",
      "Your kernel may have been built without NUMA support.\n",
      "2024-09-13 23:05:48.602212: I tensorflow/core/common_runtime/gpu/gpu_device.cc:2022] Could not identify NUMA node of platform GPU id 0, defaulting to 0.  Your kernel may not have been built with NUMA support.\n",
      "2024-09-13 23:05:48.602238: I external/local_xla/xla/stream_executor/cuda/cuda_executor.cc:887] could not open file to read NUMA node: /sys/bus/pci/devices/0000:01:00.0/numa_node\n",
      "Your kernel may have been built without NUMA support.\n",
      "2024-09-13 23:05:48.602252: I tensorflow/core/common_runtime/gpu/gpu_device.cc:1929] Created device /job:localhost/replica:0/task:0/device:GPU:0 with 5563 MB memory:  -> device: 0, name: NVIDIA GeForce RTX 4060 Laptop GPU, pci bus id: 0000:01:00.0, compute capability: 8.9\n"
     ]
    }
   ],
   "source": [
    "gpus = tf.config.list_physical_devices('GPU')\n",
    "if gpus:\n",
    "  try:\n",
    "    # Currently, memory growth needs to be the same across GPUs\n",
    "    for gpu in gpus:\n",
    "      tf.config.experimental.set_memory_growth(gpu, True)\n",
    "    logical_gpus = tf.config.list_logical_devices('GPU')\n",
    "    print(len(gpus), \"Physical GPUs,\", len(logical_gpus), \"Logical GPUs\")\n",
    "  except RuntimeError as e:\n",
    "    # Memory growth must be set before GPUs have been initialized\n",
    "    print(e)"
   ]
  },
  {
   "cell_type": "code",
   "execution_count": 4,
   "id": "6136e7bd-815a-4c41-b55d-850c17e0d3f2",
   "metadata": {},
   "outputs": [],
   "source": [
    "tf.config.experimental.set_memory_growth(gpu, True)"
   ]
  },
  {
   "cell_type": "code",
   "execution_count": 5,
   "id": "492b97f5-d6ad-42fa-a002-a0e36215b500",
   "metadata": {},
   "outputs": [],
   "source": [
    "from tensorflow.keras.preprocessing.text import Tokenizer\n",
    "from tensorflow.keras.preprocessing.sequence import pad_sequences"
   ]
  },
  {
   "cell_type": "code",
   "execution_count": 6,
   "id": "95f74add-de1c-4689-995b-e2ca26ea126d",
   "metadata": {},
   "outputs": [],
   "source": [
    "def use_tokenizer_training(data):\n",
    "    tokenizer = tf.keras.preprocessing.text.Tokenizer()\n",
    "    tokenizer.fit_on_texts(data)\n",
    "    X_sequences = tokenizer.texts_to_sequences(data)\n",
    "    X_padded = pad_sequences(X_sequences, padding='post')\n",
    "    return tokenizer,X_sequences,X_padded"
   ]
  },
  {
   "cell_type": "code",
   "execution_count": null,
   "id": "2696588f-b9b5-40f8-a395-fb79b9727ed9",
   "metadata": {},
   "outputs": [],
   "source": []
  },
  {
   "cell_type": "code",
   "execution_count": 7,
   "id": "95659e27-d21c-44b1-8243-d46903fcf4fb",
   "metadata": {},
   "outputs": [],
   "source": [
    "def use_label_tokenizer_training(data):\n",
    "    label_tokenizer = tf.keras.preprocessing.text.Tokenizer()\n",
    "    label_tokenizer.fit_on_texts([label for label in data])\n",
    "    y_sequences = label_tokenizer.texts_to_sequences(data)\n",
    "    y_padded = pad_sequences(y_sequences,padding='post')\n",
    "    return label_tokenizer,y_sequences,y_padded"
   ]
  },
  {
   "cell_type": "code",
   "execution_count": 8,
   "id": "7fc0d0de-877c-45a9-bf57-8cc028900a28",
   "metadata": {},
   "outputs": [],
   "source": [
    "df = pd.read_json(\"english_balanced_10k.jsonl\",lines=True)"
   ]
  },
  {
   "cell_type": "code",
   "execution_count": 9,
   "id": "4b416cb9-5dce-4565-add5-6cff9b537a3c",
   "metadata": {},
   "outputs": [],
   "source": [
    "df = df[['tokenised_unmasked_text','token_entity_labels']]"
   ]
  },
  {
   "cell_type": "code",
   "execution_count": 10,
   "id": "d1886ba5-34a7-4ec7-8602-4b8aab2e32fa",
   "metadata": {},
   "outputs": [],
   "source": [
    "df.rename({\"token_entity_labels\":\"target\",\"tokenised_unmasked_text\":\"text\"},axis=1,inplace=True)"
   ]
  },
  {
   "cell_type": "code",
   "execution_count": 11,
   "id": "1395056a-8c92-4791-a632-e66b35ce699e",
   "metadata": {},
   "outputs": [],
   "source": [
    "x = df['text']\n",
    "y = df['target']"
   ]
  },
  {
   "cell_type": "code",
   "execution_count": 12,
   "id": "38d94643-1d15-4699-a9ea-0224db5fa669",
   "metadata": {},
   "outputs": [],
   "source": [
    "from sklearn.model_selection import train_test_split"
   ]
  },
  {
   "cell_type": "code",
   "execution_count": 13,
   "id": "9ddc8a02-25d2-4ec6-a185-82ff73a4b6c7",
   "metadata": {},
   "outputs": [],
   "source": [
    "tokenizer,x_train_seq,x_train_padded = use_tokenizer_training(x)\n",
    "label_tokenizer,y_train_seq,y_train_padded = use_label_tokenizer_training(y)"
   ]
  },
  {
   "cell_type": "code",
   "execution_count": 14,
   "id": "cee14be5-c798-4de4-af5e-4c70a11ee9d5",
   "metadata": {},
   "outputs": [],
   "source": [
    "x_train,x_test,y_train,y_test = train_test_split(x_train_padded,y_train_padded,random_state=123)"
   ]
  },
  {
   "cell_type": "code",
   "execution_count": 15,
   "id": "88dab811-5b12-4592-afc9-ecf20a58e457",
   "metadata": {},
   "outputs": [],
   "source": [
    "x_train,x_val,y_train,y_val = train_test_split(x_train,y_train,random_state=123)"
   ]
  },
  {
   "cell_type": "code",
   "execution_count": 31,
   "id": "f54a124f-5709-4dd0-8c08-bcf0b5963b7c",
   "metadata": {},
   "outputs": [
    {
     "name": "stdout",
     "output_type": "stream",
     "text": [
      "{1: 'o', 2: 'i-useragent', 3: 'i-ipv6', 4: 'i-ethereumaddress', 5: 'i-bitcoinaddress', 6: 'i-ip', 7: 'i-email', 8: 'i-url', 9: 'i-litecoinaddress', 10: 'i-iban', 11: 'i-mac', 12: 'i-phone_number', 13: 'i-date', 14: 'i-phoneimei', 15: 'i-creditcardnumber', 16: 'i-password', 17: 'i-vehiclevin', 18: 'i-ipv4', 19: 'i-maskednumber', 20: 'i-company_name', 21: 'i-username', 22: 'i-accountnumber', 23: 'i-streetaddress', 24: 'i-ssn', 25: 'i-jobtitle', 26: 'i-amount', 27: 'i-zipcode', 28: 'i-bic', 29: 'i-vehiclevrm', 30: 'i-lastname', 31: 'i-currency', 32: 'b-firstname', 33: 'i-time', 34: 'i-city', 35: 'b-lastname', 36: 'b-date', 37: 'b-prefix', 38: 'b-email', 39: 'i-street', 40: 'i-secondaryaddress', 41: 'i-accountname', 42: 'b-jobtitle', 43: 'b-username', 44: 'i-firstname', 45: 'i-prefix', 46: 'b-url', 47: 'b-time', 48: 'b-jobarea', 49: 'b-city', 50: 'b-company_name', 51: 'b-amount', 52: 'b-middlename', 53: 'b-ipv4', 54: 'b-currency', 55: 'b-accountnumber', 56: 'i-buildingnumber', 57: 'b-phone_number', 58: 'b-password', 59: 'b-state', 60: 'b-county', 61: 'b-streetaddress', 62: 'b-accountname', 63: 'b-creditcardnumber', 64: 'b-ipv6', 65: 'b-jobdescriptor', 66: 'b-jobtype', 67: 'b-bitcoinaddress', 68: 'b-street', 69: 'b-buildingnumber', 70: 'b-ethereumaddress', 71: 'i-currencyname', 72: 'b-ip', 73: 'b-zipcode', 74: 'b-secondaryaddress', 75: 'b-mac', 76: 'b-useragent', 77: 'b-phoneimei', 78: 'b-suffix', 79: 'b-iban', 80: 'b-creditcardissuer', 81: 'i-creditcardissuer', 82: 'b-maskednumber', 83: 'b-sex', 84: 'b-vehiclevin', 85: 'b-vehiclevrm', 86: 'b-litecoinaddress', 87: 'b-ssn', 88: 'i-pin', 89: 'b-bic', 90: 'b-currencycode', 91: 'b-currencyname', 92: 'b-currencysymbol', 93: 'b-creditcardcvv', 94: 'b-pin', 95: 'i-currencycode', 96: 'i-suffix', 97: 'i-creditcardcvv', 98: 'i-jobtype', 99: 'i-state', 100: 'i-currencysymbol', 101: 'i-fullname', 102: 'i-jobarea', 103: 'i-middlename', 104: 'b-fullname', 0: 0}\n"
     ]
    }
   ],
   "source": [
    "original_dict = label_tokenizer.word_index\n",
    "idx2tag = {v: k for k, v in original_dict.items()}\n",
    "idx2tag[0]=0\n",
    "print(idx2tag)"
   ]
  },
  {
   "cell_type": "code",
   "execution_count": 17,
   "id": "c366836f-3c8e-439d-a125-77898efa754b",
   "metadata": {},
   "outputs": [],
   "source": [
    "vocab_size = len(tokenizer.word_index) + 1\n",
    "embedding_dim = 100\n",
    "max_len = x_train_padded.shape[1]\n",
    "num_tags = len(label_tokenizer.word_index) + 1"
   ]
  },
  {
   "cell_type": "code",
   "execution_count": 18,
   "id": "e279bde4-01e3-43c8-a513-c2fecb2efbd7",
   "metadata": {},
   "outputs": [],
   "source": [
    "from tensorflow.keras.layers import Embedding,Dense,LSTM,Bidirectional,TimeDistributed\n",
    "from tensorflow.keras.models import Sequential"
   ]
  },
  {
   "cell_type": "code",
   "execution_count": 19,
   "id": "63213b1f-555b-4c7f-875e-3b6dfb7c6cf2",
   "metadata": {},
   "outputs": [],
   "source": [
    "model = Sequential()"
   ]
  },
  {
   "cell_type": "code",
   "execution_count": 20,
   "id": "1fd8118d-b808-44be-bef3-5b3db16bc507",
   "metadata": {},
   "outputs": [
    {
     "name": "stderr",
     "output_type": "stream",
     "text": [
      "2024-09-13 23:05:49.772797: W external/local_xla/xla/stream_executor/gpu/asm_compiler.cc:225] Falling back to the CUDA driver for PTX compilation; ptxas does not support CC 8.9\n",
      "2024-09-13 23:05:49.772833: W external/local_xla/xla/stream_executor/gpu/asm_compiler.cc:228] Used ptxas at ptxas\n",
      "2024-09-13 23:05:49.772863: W tensorflow/compiler/mlir/tools/kernel_gen/transforms/gpu_kernel_to_blob_pass.cc:191] Failed to compile generated PTX with ptxas. Falling back to compilation by driver.\n"
     ]
    }
   ],
   "source": [
    "model = Sequential()\n",
    "model.add(Embedding(input_dim=vocab_size, output_dim=embedding_dim, input_length=max_len))\n",
    "model.add(Bidirectional(LSTM(units=256, return_sequences=True)))\n",
    "model.add(Bidirectional(LSTM(units=128, return_sequences=True)))\n",
    "model.add(Bidirectional(LSTM(units=64, return_sequences=True)))\n",
    "model.add(TimeDistributed(Dense(128, activation='relu')))\n",
    "model.add(Dense(num_tags,activation = 'softmax'))"
   ]
  },
  {
   "cell_type": "code",
   "execution_count": 21,
   "id": "cc97ac1e-8e99-498e-acde-becd3a14cb48",
   "metadata": {},
   "outputs": [],
   "source": [
    "model.compile(optimizer='adam', loss='sparse_categorical_crossentropy', metrics=['accuracy'])"
   ]
  },
  {
   "cell_type": "code",
   "execution_count": 22,
   "id": "53e22427-3886-460f-8e6a-099d156ce1ae",
   "metadata": {},
   "outputs": [
    {
     "name": "stdout",
     "output_type": "stream",
     "text": [
      "Model: \"sequential_1\"\n",
      "_________________________________________________________________\n",
      " Layer (type)                Output Shape              Param #   \n",
      "=================================================================\n",
      " embedding (Embedding)       (None, 214, 100)          1142100   \n",
      "                                                                 \n",
      " bidirectional (Bidirection  (None, 214, 512)          731136    \n",
      " al)                                                             \n",
      "                                                                 \n",
      " bidirectional_1 (Bidirecti  (None, 214, 256)          656384    \n",
      " onal)                                                           \n",
      "                                                                 \n",
      " bidirectional_2 (Bidirecti  (None, 214, 128)          164352    \n",
      " onal)                                                           \n",
      "                                                                 \n",
      " time_distributed (TimeDist  (None, 214, 128)          16512     \n",
      " ributed)                                                        \n",
      "                                                                 \n",
      " dense_1 (Dense)             (None, 214, 105)          13545     \n",
      "                                                                 \n",
      "=================================================================\n",
      "Total params: 2724029 (10.39 MB)\n",
      "Trainable params: 2724029 (10.39 MB)\n",
      "Non-trainable params: 0 (0.00 Byte)\n",
      "_________________________________________________________________\n"
     ]
    }
   ],
   "source": [
    "model.summary()"
   ]
  },
  {
   "cell_type": "code",
   "execution_count": 23,
   "id": "d63fa7e2-9d41-4b50-b472-674e109b4f8a",
   "metadata": {},
   "outputs": [
    {
     "name": "stdout",
     "output_type": "stream",
     "text": [
      "Epoch 1/15\n"
     ]
    },
    {
     "name": "stderr",
     "output_type": "stream",
     "text": [
      "2024-09-13 23:05:54.096584: I external/local_xla/xla/stream_executor/cuda/cuda_dnn.cc:454] Loaded cuDNN version 8907\n",
      "2024-09-13 23:05:54.141306: W tensorflow/compiler/mlir/tools/kernel_gen/transforms/gpu_kernel_to_blob_pass.cc:191] Failed to compile generated PTX with ptxas. Falling back to compilation by driver.\n",
      "2024-09-13 23:05:54.145241: W tensorflow/compiler/mlir/tools/kernel_gen/transforms/gpu_kernel_to_blob_pass.cc:191] Failed to compile generated PTX with ptxas. Falling back to compilation by driver.\n",
      "2024-09-13 23:05:54.151051: W tensorflow/compiler/mlir/tools/kernel_gen/transforms/gpu_kernel_to_blob_pass.cc:191] Failed to compile generated PTX with ptxas. Falling back to compilation by driver.\n",
      "2024-09-13 23:05:54.153706: W tensorflow/compiler/mlir/tools/kernel_gen/transforms/gpu_kernel_to_blob_pass.cc:191] Failed to compile generated PTX with ptxas. Falling back to compilation by driver.\n",
      "2024-09-13 23:05:54.153797: W tensorflow/compiler/mlir/tools/kernel_gen/transforms/gpu_kernel_to_blob_pass.cc:191] Failed to compile generated PTX with ptxas. Falling back to compilation by driver.\n",
      "2024-09-13 23:05:54.153993: W tensorflow/compiler/mlir/tools/kernel_gen/transforms/gpu_kernel_to_blob_pass.cc:191] Failed to compile generated PTX with ptxas. Falling back to compilation by driver.\n",
      "2024-09-13 23:05:54.240460: W tensorflow/compiler/mlir/tools/kernel_gen/transforms/gpu_kernel_to_blob_pass.cc:191] Failed to compile generated PTX with ptxas. Falling back to compilation by driver.\n",
      "2024-09-13 23:05:54.274277: I external/local_xla/xla/service/service.cc:168] XLA service 0x7fef2dd80790 initialized for platform CUDA (this does not guarantee that XLA will be used). Devices:\n",
      "2024-09-13 23:05:54.274310: I external/local_xla/xla/service/service.cc:176]   StreamExecutor device (0): NVIDIA GeForce RTX 4060 Laptop GPU, Compute Capability 8.9\n",
      "2024-09-13 23:05:54.277993: I tensorflow/compiler/mlir/tensorflow/utils/dump_mlir_util.cc:269] disabling MLIR crash reproducer, set env var `MLIR_CRASH_REPRODUCER_DIRECTORY` to enable.\n",
      "2024-09-13 23:05:54.302791: W external/local_xla/xla/service/gpu/nvptx_compiler.cc:408] Couldn't read CUDA driver version.\n",
      "WARNING: All log messages before absl::InitializeLog() is called are written to STDERR\n",
      "I0000 00:00:1726248954.313624   34705 device_compiler.h:186] Compiled cluster using XLA!  This line is logged at most once for the lifetime of the process.\n"
     ]
    },
    {
     "name": "stdout",
     "output_type": "stream",
     "text": [
      "192/192 [==============================] - 28s 124ms/step - loss: 0.7233 - accuracy: 0.8716 - val_loss: 0.4115 - val_accuracy: 0.9155\n",
      "Epoch 2/15\n",
      "192/192 [==============================] - 17s 87ms/step - loss: 0.3405 - accuracy: 0.9209 - val_loss: 0.2950 - val_accuracy: 0.9242\n",
      "Epoch 3/15\n",
      "192/192 [==============================] - 16s 83ms/step - loss: 0.2515 - accuracy: 0.9339 - val_loss: 0.2282 - val_accuracy: 0.9388\n",
      "Epoch 4/15\n",
      "192/192 [==============================] - 15s 81ms/step - loss: 0.2009 - accuracy: 0.9436 - val_loss: 0.2061 - val_accuracy: 0.9477\n",
      "Epoch 5/15\n",
      "192/192 [==============================] - 15s 78ms/step - loss: 0.1667 - accuracy: 0.9525 - val_loss: 0.1600 - val_accuracy: 0.9534\n",
      "Epoch 6/15\n",
      "192/192 [==============================] - 15s 77ms/step - loss: 0.1348 - accuracy: 0.9596 - val_loss: 0.1343 - val_accuracy: 0.9602\n",
      "Epoch 7/15\n",
      "192/192 [==============================] - 15s 78ms/step - loss: 0.1113 - accuracy: 0.9659 - val_loss: 0.1134 - val_accuracy: 0.9655\n",
      "Epoch 8/15\n",
      "192/192 [==============================] - 15s 79ms/step - loss: 0.0904 - accuracy: 0.9717 - val_loss: 0.0953 - val_accuracy: 0.9718\n",
      "Epoch 9/15\n",
      "192/192 [==============================] - 15s 78ms/step - loss: 0.0724 - accuracy: 0.9772 - val_loss: 0.0829 - val_accuracy: 0.9761\n",
      "Epoch 10/15\n",
      "192/192 [==============================] - 16s 82ms/step - loss: 0.0591 - accuracy: 0.9811 - val_loss: 0.0745 - val_accuracy: 0.9775\n",
      "Epoch 11/15\n",
      "192/192 [==============================] - 15s 80ms/step - loss: 0.0520 - accuracy: 0.9833 - val_loss: 0.0649 - val_accuracy: 0.9808\n",
      "Epoch 12/15\n",
      "192/192 [==============================] - 15s 80ms/step - loss: 0.0405 - accuracy: 0.9869 - val_loss: 0.0593 - val_accuracy: 0.9825\n",
      "Epoch 13/15\n",
      "192/192 [==============================] - 15s 81ms/step - loss: 0.0349 - accuracy: 0.9888 - val_loss: 0.0570 - val_accuracy: 0.9826\n",
      "Epoch 14/15\n",
      "192/192 [==============================] - 17s 90ms/step - loss: 0.0296 - accuracy: 0.9903 - val_loss: 0.0536 - val_accuracy: 0.9847\n",
      "Epoch 15/15\n",
      "192/192 [==============================] - 15s 80ms/step - loss: 0.0290 - accuracy: 0.9907 - val_loss: 0.0544 - val_accuracy: 0.9848\n"
     ]
    }
   ],
   "source": [
    "history = model.fit(\n",
    "    x_train, y_train,                \n",
    "    batch_size=32,                   \n",
    "    epochs=15,                       \n",
    "    validation_data=(x_val, y_val)\n",
    ")"
   ]
  },
  {
   "cell_type": "code",
   "execution_count": 24,
   "id": "f0e09e6b-4e9a-4b86-a0bd-3a0794d5d9a9",
   "metadata": {},
   "outputs": [],
   "source": [
    "model.save(\"model_lstm_sm.keras\")\n",
    "model.save_weights(\"model_weights_sm.weights.h5\")\n"
   ]
  },
  {
   "cell_type": "code",
   "execution_count": 25,
   "id": "cdd7eea0-617a-43b4-807d-dd91fe3f24c2",
   "metadata": {},
   "outputs": [
    {
     "name": "stdout",
     "output_type": "stream",
     "text": [
      "341/341 [==============================] - 11s 29ms/step\n"
     ]
    }
   ],
   "source": [
    "y_pred_prob = model.predict(x_test,batch_size=8)\n",
    "y_pred = np.argmax(y_pred_prob, axis=-1)"
   ]
  },
  {
   "cell_type": "code",
   "execution_count": 26,
   "id": "9e8724f7-cc12-4f1b-8947-f44bc92a66fe",
   "metadata": {},
   "outputs": [],
   "source": [
    "y_pred_labels = [[idx2tag.get(idx) for idx in sentence] for sentence in y_pred]\n",
    "y_test_labels = [[idx2tag.get(idx) for idx in sentence] for sentence in y_test]"
   ]
  },
  {
   "cell_type": "code",
   "execution_count": 27,
   "id": "e2be57d3-5cc6-41a5-8477-042407f889e6",
   "metadata": {},
   "outputs": [
    {
     "name": "stdout",
     "output_type": "stream",
     "text": [
      "Original Text: [   9   47  181    7  753   11    2  608  736 1006  662 1226    1   16\n",
      "   86    2  753   23    2  303 1405 1038   13    7  474   91  247   22\n",
      "    1 1979   32    1  532  241    1    0    0    0    0    0    0    0\n",
      "    0    0    0    0    0    0    0    0    0    0    0    0    0    0\n",
      "    0    0    0    0    0    0    0    0    0    0    0    0    0    0\n",
      "    0    0    0    0    0    0    0    0    0    0    0    0    0    0\n",
      "    0    0    0    0    0    0    0    0    0    0    0    0    0    0\n",
      "    0    0    0    0    0    0    0    0    0    0    0    0    0    0\n",
      "    0    0    0    0    0    0    0    0    0    0    0    0    0    0\n",
      "    0    0    0    0    0    0    0    0    0    0    0    0    0    0\n",
      "    0    0    0    0    0    0    0    0    0    0    0    0    0    0\n",
      "    0    0    0    0    0    0    0    0    0    0    0    0    0    0\n",
      "    0    0    0    0    0    0    0    0    0    0    0    0    0    0\n",
      "    0    0    0    0    0    0    0    0    0    0    0    0    0    0\n",
      "    0    0    0    0    0    0    0    0    0    0    0    0    0    0\n",
      "    0    0    0    0]\n",
      "True Labels: ['o', 'o', 'o', 'o', 'o', 'o', 'o', 'b-jobtype', 'i-jobtype', 'i-jobtype', 'i-jobtype', 'o', 'o', 'o', 'o', 'o', 'o', 'o', 'o', 'o', 'o', 'o', 'o', 'o', 'o', 'o', 'b-ssn', 'i-ssn', 'i-ssn', 'i-ssn', 'i-ssn', 'i-ssn', 'i-ssn', 'i-ssn', 'o', 0, 0, 0, 0, 0, 0, 0, 0, 0, 0, 0, 0, 0, 0, 0, 0, 0, 0, 0, 0, 0, 0, 0, 0, 0, 0, 0, 0, 0, 0, 0, 0, 0, 0, 0, 0, 0, 0, 0, 0, 0, 0, 0, 0, 0, 0, 0, 0, 0, 0, 0, 0, 0, 0, 0, 0, 0, 0, 0, 0, 0, 0, 0, 0, 0, 0, 0, 0, 0, 0, 0, 0, 0, 0, 0, 0, 0, 0, 0, 0, 0, 0, 0, 0, 0, 0, 0, 0, 0, 0, 0, 0, 0, 0, 0, 0, 0, 0, 0, 0, 0, 0, 0, 0, 0, 0, 0, 0, 0, 0, 0, 0, 0, 0, 0, 0, 0, 0, 0, 0, 0, 0, 0, 0, 0, 0, 0, 0, 0, 0, 0, 0, 0, 0, 0, 0, 0, 0, 0, 0, 0, 0, 0, 0, 0, 0, 0, 0, 0, 0, 0, 0, 0, 0, 0, 0, 0, 0, 0, 0, 0, 0, 0, 0, 0, 0, 0, 0, 0, 0, 0, 0, 0, 0, 0, 0, 0, 0, 0]\n",
      "Predicted Labels: ['o', 'o', 'o', 'o', 'o', 'o', 'o', 'b-company_name', 'i-jobtitle', 'i-jobtitle', 'i-jobtitle', 'o', 'o', 'o', 'o', 'o', 'o', 'o', 'o', 'o', 'o', 'o', 'o', 'o', 'o', 'o', 'b-ssn', 'i-date', 'i-ssn', 'i-ssn', 'i-ssn', 'i-ssn', 'i-ssn', 'i-ssn', 'o', 0, 0, 0, 0, 0, 0, 0, 0, 0, 0, 0, 0, 0, 0, 0, 0, 0, 0, 0, 0, 0, 0, 0, 0, 0, 0, 0, 0, 0, 0, 0, 0, 0, 0, 0, 0, 0, 0, 0, 0, 0, 0, 0, 0, 0, 0, 0, 0, 0, 0, 0, 0, 0, 0, 0, 0, 0, 0, 0, 0, 0, 0, 0, 0, 0, 0, 0, 0, 0, 0, 0, 0, 0, 0, 0, 0, 0, 0, 0, 0, 0, 0, 0, 0, 0, 0, 0, 0, 0, 0, 0, 0, 0, 0, 0, 0, 0, 0, 0, 0, 0, 0, 0, 0, 0, 0, 0, 0, 0, 0, 0, 0, 0, 0, 0, 0, 0, 0, 0, 0, 0, 0, 0, 0, 0, 0, 0, 0, 0, 0, 0, 0, 0, 0, 0, 0, 0, 0, 0, 0, 0, 0, 0, 0, 0, 0, 0, 0, 0, 0, 0, 0, 0, 0, 0, 0, 0, 0, 0, 0, 0, 0, 0, 0, 0, 0, 0, 0, 0, 0, 0, 0, 0, 0, 0, 0, 0, 0, 0]\n",
      "--------------------------------------------------\n",
      "Original Text: [ 101  799   15  121   96   11    6  492  378   85  447   52  198  199\n",
      "    6 1279  441   23  209   37  656 2011  145 1369   36  136    3   12\n",
      "   16  403  128  969  282 1956    1    0    0    0    0    0    0    0\n",
      "    0    0    0    0    0    0    0    0    0    0    0    0    0    0\n",
      "    0    0    0    0    0    0    0    0    0    0    0    0    0    0\n",
      "    0    0    0    0    0    0    0    0    0    0    0    0    0    0\n",
      "    0    0    0    0    0    0    0    0    0    0    0    0    0    0\n",
      "    0    0    0    0    0    0    0    0    0    0    0    0    0    0\n",
      "    0    0    0    0    0    0    0    0    0    0    0    0    0    0\n",
      "    0    0    0    0    0    0    0    0    0    0    0    0    0    0\n",
      "    0    0    0    0    0    0    0    0    0    0    0    0    0    0\n",
      "    0    0    0    0    0    0    0    0    0    0    0    0    0    0\n",
      "    0    0    0    0    0    0    0    0    0    0    0    0    0    0\n",
      "    0    0    0    0    0    0    0    0    0    0    0    0    0    0\n",
      "    0    0    0    0    0    0    0    0    0    0    0    0    0    0\n",
      "    0    0    0    0]\n",
      "True Labels: ['o', 'o', 'o', 'o', 'o', 'o', 'o', 'o', 'o', 'o', 'o', 'o', 'o', 'o', 'o', 'o', 'o', 'o', 'o', 'o', 'b-bic', 'i-bic', 'i-bic', 'i-bic', 'i-bic', 'i-bic', 'o', 'o', 'o', 'o', 'o', 'o', 'o', 'o', 'o', 0, 0, 0, 0, 0, 0, 0, 0, 0, 0, 0, 0, 0, 0, 0, 0, 0, 0, 0, 0, 0, 0, 0, 0, 0, 0, 0, 0, 0, 0, 0, 0, 0, 0, 0, 0, 0, 0, 0, 0, 0, 0, 0, 0, 0, 0, 0, 0, 0, 0, 0, 0, 0, 0, 0, 0, 0, 0, 0, 0, 0, 0, 0, 0, 0, 0, 0, 0, 0, 0, 0, 0, 0, 0, 0, 0, 0, 0, 0, 0, 0, 0, 0, 0, 0, 0, 0, 0, 0, 0, 0, 0, 0, 0, 0, 0, 0, 0, 0, 0, 0, 0, 0, 0, 0, 0, 0, 0, 0, 0, 0, 0, 0, 0, 0, 0, 0, 0, 0, 0, 0, 0, 0, 0, 0, 0, 0, 0, 0, 0, 0, 0, 0, 0, 0, 0, 0, 0, 0, 0, 0, 0, 0, 0, 0, 0, 0, 0, 0, 0, 0, 0, 0, 0, 0, 0, 0, 0, 0, 0, 0, 0, 0, 0, 0, 0, 0, 0, 0, 0, 0, 0, 0, 0, 0, 0, 0, 0, 0]\n",
      "Predicted Labels: ['o', 'o', 'o', 'o', 'o', 'o', 'o', 'o', 'o', 'o', 'o', 'o', 'o', 'o', 'o', 'o', 'o', 'o', 'o', 'o', 'b-bic', 'i-bic', 'i-bic', 'i-bic', 'i-bic', 'i-bic', 'o', 'o', 'o', 'o', 'o', 'o', 'o', 'o', 'o', 0, 0, 0, 0, 0, 0, 0, 0, 0, 0, 0, 0, 0, 0, 0, 0, 0, 0, 0, 0, 0, 0, 0, 0, 0, 0, 0, 0, 0, 0, 0, 0, 0, 0, 0, 0, 0, 0, 0, 0, 0, 0, 0, 0, 0, 0, 0, 0, 0, 0, 0, 0, 0, 0, 0, 0, 0, 0, 0, 0, 0, 0, 0, 0, 0, 0, 0, 0, 0, 0, 0, 0, 0, 0, 0, 0, 0, 0, 0, 0, 0, 0, 0, 0, 0, 0, 0, 0, 0, 0, 0, 0, 0, 0, 0, 0, 0, 0, 0, 0, 0, 0, 0, 0, 0, 0, 0, 0, 0, 0, 0, 0, 0, 0, 0, 0, 0, 0, 0, 0, 0, 0, 0, 0, 0, 0, 0, 0, 0, 0, 0, 0, 0, 0, 0, 0, 0, 0, 0, 0, 0, 0, 0, 0, 0, 0, 0, 0, 0, 0, 0, 0, 0, 0, 0, 0, 0, 0, 0, 0, 0, 0, 0, 0, 0, 0, 0, 0, 0, 0, 0, 0, 0, 0, 0, 0, 0, 0, 0]\n",
      "--------------------------------------------------\n",
      "Original Text: [   9   47  181  116   14  221  203 3276   11    6  435    3   16  167\n",
      "    2  497   34  108   68 1473 2146   20   36   69   35   91   35   17\n",
      " 1533   35   69   43  109  191  137  250  501   38  971 2071    1    0\n",
      "    0    0    0    0    0    0    0    0    0    0    0    0    0    0\n",
      "    0    0    0    0    0    0    0    0    0    0    0    0    0    0\n",
      "    0    0    0    0    0    0    0    0    0    0    0    0    0    0\n",
      "    0    0    0    0    0    0    0    0    0    0    0    0    0    0\n",
      "    0    0    0    0    0    0    0    0    0    0    0    0    0    0\n",
      "    0    0    0    0    0    0    0    0    0    0    0    0    0    0\n",
      "    0    0    0    0    0    0    0    0    0    0    0    0    0    0\n",
      "    0    0    0    0    0    0    0    0    0    0    0    0    0    0\n",
      "    0    0    0    0    0    0    0    0    0    0    0    0    0    0\n",
      "    0    0    0    0    0    0    0    0    0    0    0    0    0    0\n",
      "    0    0    0    0    0    0    0    0    0    0    0    0    0    0\n",
      "    0    0    0    0    0    0    0    0    0    0    0    0    0    0\n",
      "    0    0    0    0]\n",
      "True Labels: ['o', 'o', 'o', 'o', 'o', 'o', 'o', 'o', 'o', 'o', 'o', 'o', 'o', 'o', 'o', 'o', 'o', 'b-bitcoinaddress', 'i-bitcoinaddress', 'i-bitcoinaddress', 'i-bitcoinaddress', 'i-bitcoinaddress', 'i-bitcoinaddress', 'i-bitcoinaddress', 'i-bitcoinaddress', 'i-bitcoinaddress', 'i-bitcoinaddress', 'i-bitcoinaddress', 'i-bitcoinaddress', 'i-bitcoinaddress', 'i-bitcoinaddress', 'i-bitcoinaddress', 'i-bitcoinaddress', 'i-bitcoinaddress', 'i-bitcoinaddress', 'i-bitcoinaddress', 'i-bitcoinaddress', 'i-bitcoinaddress', 'i-bitcoinaddress', 'i-bitcoinaddress', 'o', 0, 0, 0, 0, 0, 0, 0, 0, 0, 0, 0, 0, 0, 0, 0, 0, 0, 0, 0, 0, 0, 0, 0, 0, 0, 0, 0, 0, 0, 0, 0, 0, 0, 0, 0, 0, 0, 0, 0, 0, 0, 0, 0, 0, 0, 0, 0, 0, 0, 0, 0, 0, 0, 0, 0, 0, 0, 0, 0, 0, 0, 0, 0, 0, 0, 0, 0, 0, 0, 0, 0, 0, 0, 0, 0, 0, 0, 0, 0, 0, 0, 0, 0, 0, 0, 0, 0, 0, 0, 0, 0, 0, 0, 0, 0, 0, 0, 0, 0, 0, 0, 0, 0, 0, 0, 0, 0, 0, 0, 0, 0, 0, 0, 0, 0, 0, 0, 0, 0, 0, 0, 0, 0, 0, 0, 0, 0, 0, 0, 0, 0, 0, 0, 0, 0, 0, 0, 0, 0, 0, 0, 0, 0, 0, 0, 0, 0, 0, 0, 0, 0, 0, 0, 0, 0, 0, 0, 0, 0, 0, 0, 0, 0, 0, 0, 0, 0, 0, 0, 0, 0, 0, 0]\n",
      "Predicted Labels: ['o', 'o', 'o', 'o', 'o', 'o', 'o', 'o', 'o', 'o', 'o', 'o', 'o', 'o', 'o', 'o', 'o', 'b-bitcoinaddress', 'i-bitcoinaddress', 'i-bitcoinaddress', 'i-bitcoinaddress', 'i-bitcoinaddress', 'i-bitcoinaddress', 'i-bitcoinaddress', 'i-bitcoinaddress', 'i-bitcoinaddress', 'i-bitcoinaddress', 'i-bitcoinaddress', 'i-bitcoinaddress', 'i-bitcoinaddress', 'i-bitcoinaddress', 'i-bitcoinaddress', 'i-bitcoinaddress', 'i-bitcoinaddress', 'i-litecoinaddress', 'i-litecoinaddress', 'i-litecoinaddress', 'i-bitcoinaddress', 'i-bitcoinaddress', 'i-litecoinaddress', 'o', 0, 0, 0, 0, 0, 0, 0, 0, 0, 0, 0, 0, 0, 0, 0, 0, 0, 0, 0, 0, 0, 0, 0, 0, 0, 0, 0, 0, 0, 0, 0, 0, 0, 0, 0, 0, 0, 0, 0, 0, 0, 0, 0, 0, 0, 0, 0, 0, 0, 0, 0, 0, 0, 0, 0, 0, 0, 0, 0, 0, 0, 0, 0, 0, 0, 0, 0, 0, 0, 0, 0, 0, 0, 0, 0, 0, 0, 0, 0, 0, 0, 0, 0, 0, 0, 0, 0, 0, 0, 0, 0, 0, 0, 0, 0, 0, 0, 0, 0, 0, 0, 0, 0, 0, 0, 0, 0, 0, 0, 0, 0, 0, 0, 0, 0, 0, 0, 0, 0, 0, 0, 0, 0, 0, 0, 0, 0, 0, 0, 0, 0, 0, 0, 0, 0, 0, 0, 0, 0, 0, 0, 0, 0, 0, 0, 0, 0, 0, 0, 0, 0, 0, 0, 0, 0, 0, 0, 0, 0, 0, 0, 0, 0, 0, 0, 0, 0, 0, 0, 0, 0, 0, 0]\n",
      "--------------------------------------------------\n",
      "Original Text: [  60  435  430    3   30    7 1108  245 5282 7429    3   51   47 2309\n",
      "    8 1329   13  163 2717   15  268  398  342   50   64  745  700    1\n",
      "   10   50  775  195  398   34   99    5   21   21 7430   15 1665 1400\n",
      "    1  209   68   21    1   16    3  684    4  625    7 4426   69  110\n",
      "  236  110   76 1209   31  109   68 2350    4 1516    7  239  112   12\n",
      "  979  722    1    0    0    0    0    0    0    0    0    0    0    0\n",
      "    0    0    0    0    0    0    0    0    0    0    0    0    0    0\n",
      "    0    0    0    0    0    0    0    0    0    0    0    0    0    0\n",
      "    0    0    0    0    0    0    0    0    0    0    0    0    0    0\n",
      "    0    0    0    0    0    0    0    0    0    0    0    0    0    0\n",
      "    0    0    0    0    0    0    0    0    0    0    0    0    0    0\n",
      "    0    0    0    0    0    0    0    0    0    0    0    0    0    0\n",
      "    0    0    0    0    0    0    0    0    0    0    0    0    0    0\n",
      "    0    0    0    0    0    0    0    0    0    0    0    0    0    0\n",
      "    0    0    0    0    0    0    0    0    0    0    0    0    0    0\n",
      "    0    0    0    0]\n",
      "True Labels: ['o', 'o', 'b-sex', 'o', 'o', 'o', 'o', 'o', 'o', 'o', 'o', 'o', 'o', 'o', 'o', 'o', 'o', 'o', 'o', 'o', 'o', 'o', 'o', 'o', 'o', 'o', 'o', 'o', 'o', 'o', 'o', 'o', 'o', 'o', 'b-url', 'i-url', 'i-url', 'i-url', 'i-url', 'i-url', 'i-url', 'i-url', 'i-url', 'i-url', 'i-url', 'i-url', 'o', 'o', 'o', 'o', 'o', 'o', 'o', 'b-password', 'i-password', 'i-password', 'i-password', 'i-password', 'i-password', 'i-password', 'i-password', 'i-password', 'i-password', 'o', 'o', 'o', 'o', 'o', 'o', 'o', 'o', 'o', 'o', 0, 0, 0, 0, 0, 0, 0, 0, 0, 0, 0, 0, 0, 0, 0, 0, 0, 0, 0, 0, 0, 0, 0, 0, 0, 0, 0, 0, 0, 0, 0, 0, 0, 0, 0, 0, 0, 0, 0, 0, 0, 0, 0, 0, 0, 0, 0, 0, 0, 0, 0, 0, 0, 0, 0, 0, 0, 0, 0, 0, 0, 0, 0, 0, 0, 0, 0, 0, 0, 0, 0, 0, 0, 0, 0, 0, 0, 0, 0, 0, 0, 0, 0, 0, 0, 0, 0, 0, 0, 0, 0, 0, 0, 0, 0, 0, 0, 0, 0, 0, 0, 0, 0, 0, 0, 0, 0, 0, 0, 0, 0, 0, 0, 0, 0, 0, 0, 0, 0, 0, 0, 0, 0, 0, 0, 0, 0, 0, 0, 0, 0, 0, 0, 0, 0, 0, 0, 0, 0, 0, 0]\n",
      "Predicted Labels: ['o', 'o', 'b-sex', 'o', 'o', 'o', 'o', 'o', 'o', 'o', 'o', 'o', 'o', 'o', 'o', 'o', 'o', 'o', 'o', 'o', 'o', 'o', 'o', 'o', 'o', 'o', 'o', 'o', 'o', 'o', 'o', 'o', 'o', 'o', 'b-url', 'i-url', 'i-url', 'i-url', 'i-url', 'i-url', 'o', 'o', 'o', 'b-jobtitle', 'i-jobtitle', 'i-company_name', 'o', 'o', 'o', 'o', 'o', 'o', 'o', 'o', 'b-bic', 'i-bic', 'i-bic', 'i-bic', 'i-bic', 'i-bic', 'i-bic', 'i-bic', 'i-bic', 'o', 'o', 'o', 'o', 'o', 'o', 'o', 'o', 'o', 'o', 0, 0, 0, 0, 0, 0, 0, 0, 0, 0, 0, 0, 0, 0, 0, 0, 0, 0, 0, 0, 0, 0, 0, 0, 0, 0, 0, 0, 0, 0, 0, 0, 0, 0, 0, 0, 0, 0, 0, 0, 0, 0, 0, 0, 0, 0, 0, 0, 0, 0, 0, 0, 0, 0, 0, 0, 0, 0, 0, 0, 0, 0, 0, 0, 0, 0, 0, 0, 0, 0, 0, 0, 0, 0, 0, 0, 0, 0, 0, 0, 0, 0, 0, 0, 0, 0, 0, 0, 0, 0, 0, 0, 0, 0, 0, 0, 0, 0, 0, 0, 0, 0, 0, 0, 0, 0, 0, 0, 0, 0, 0, 0, 0, 0, 0, 0, 0, 0, 0, 0, 0, 0, 0, 0, 0, 0, 0, 0, 0, 0, 0, 0, 0, 0, 0, 0, 0, 0, 0, 0, 0]\n",
      "--------------------------------------------------\n",
      "Original Text: [   6  920   41  391    4 1414   23  174  390    1   16  155 2880   22\n",
      "   18  301  296   18  300  306  271   17  214   18 1424  214   27   32\n",
      "   91  307   12 1209 1667  137 1533   37   38   14    6  706  106    1\n",
      "    0    0    0    0    0    0    0    0    0    0    0    0    0    0\n",
      "    0    0    0    0    0    0    0    0    0    0    0    0    0    0\n",
      "    0    0    0    0    0    0    0    0    0    0    0    0    0    0\n",
      "    0    0    0    0    0    0    0    0    0    0    0    0    0    0\n",
      "    0    0    0    0    0    0    0    0    0    0    0    0    0    0\n",
      "    0    0    0    0    0    0    0    0    0    0    0    0    0    0\n",
      "    0    0    0    0    0    0    0    0    0    0    0    0    0    0\n",
      "    0    0    0    0    0    0    0    0    0    0    0    0    0    0\n",
      "    0    0    0    0    0    0    0    0    0    0    0    0    0    0\n",
      "    0    0    0    0    0    0    0    0    0    0    0    0    0    0\n",
      "    0    0    0    0    0    0    0    0    0    0    0    0    0    0\n",
      "    0    0    0    0    0    0    0    0    0    0    0    0    0    0\n",
      "    0    0    0    0]\n",
      "True Labels: ['o', 'b-accountname', 'i-accountname', 'o', 'o', 'o', 'o', 'o', 'o', 'o', 'o', 'o', 'b-iban', 'i-iban', 'i-iban', 'i-iban', 'i-iban', 'i-iban', 'i-iban', 'i-iban', 'i-iban', 'i-iban', 'i-iban', 'i-iban', 'i-iban', 'i-iban', 'i-iban', 'i-iban', 'i-iban', 'i-iban', 'o', 'b-bic', 'i-bic', 'i-bic', 'i-bic', 'i-bic', 'i-bic', 'o', 'o', 'o', 'o', 'o', 0, 0, 0, 0, 0, 0, 0, 0, 0, 0, 0, 0, 0, 0, 0, 0, 0, 0, 0, 0, 0, 0, 0, 0, 0, 0, 0, 0, 0, 0, 0, 0, 0, 0, 0, 0, 0, 0, 0, 0, 0, 0, 0, 0, 0, 0, 0, 0, 0, 0, 0, 0, 0, 0, 0, 0, 0, 0, 0, 0, 0, 0, 0, 0, 0, 0, 0, 0, 0, 0, 0, 0, 0, 0, 0, 0, 0, 0, 0, 0, 0, 0, 0, 0, 0, 0, 0, 0, 0, 0, 0, 0, 0, 0, 0, 0, 0, 0, 0, 0, 0, 0, 0, 0, 0, 0, 0, 0, 0, 0, 0, 0, 0, 0, 0, 0, 0, 0, 0, 0, 0, 0, 0, 0, 0, 0, 0, 0, 0, 0, 0, 0, 0, 0, 0, 0, 0, 0, 0, 0, 0, 0, 0, 0, 0, 0, 0, 0, 0, 0, 0, 0, 0, 0, 0, 0, 0, 0, 0, 0, 0, 0, 0, 0, 0, 0, 0, 0, 0, 0, 0, 0]\n",
      "Predicted Labels: ['o', 'b-jobarea', 'i-accountname', 'o', 'o', 'o', 'o', 'o', 'o', 'o', 'o', 'o', 'b-iban', 'i-iban', 'i-iban', 'i-iban', 'i-iban', 'i-iban', 'i-iban', 'i-iban', 'i-iban', 'i-iban', 'i-iban', 'i-iban', 'i-iban', 'i-iban', 'i-iban', 'i-iban', 'i-iban', 'i-iban', 'o', 'b-bic', 'i-bic', 'i-bic', 'i-bic', 'i-bic', 'i-bic', 'o', 'o', 'o', 'o', 'o', 0, 0, 0, 0, 0, 0, 0, 0, 0, 0, 0, 0, 0, 0, 0, 0, 0, 0, 0, 0, 0, 0, 0, 0, 0, 0, 0, 0, 0, 0, 0, 0, 0, 0, 0, 0, 0, 0, 0, 0, 0, 0, 0, 0, 0, 0, 0, 0, 0, 0, 0, 0, 0, 0, 0, 0, 0, 0, 0, 0, 0, 0, 0, 0, 0, 0, 0, 0, 0, 0, 0, 0, 0, 0, 0, 0, 0, 0, 0, 0, 0, 0, 0, 0, 0, 0, 0, 0, 0, 0, 0, 0, 0, 0, 0, 0, 0, 0, 0, 0, 0, 0, 0, 0, 0, 0, 0, 0, 0, 0, 0, 0, 0, 0, 0, 0, 0, 0, 0, 0, 0, 0, 0, 0, 0, 0, 0, 0, 0, 0, 0, 0, 0, 0, 0, 0, 0, 0, 0, 0, 0, 0, 0, 0, 0, 0, 0, 0, 0, 0, 0, 0, 0, 0, 0, 0, 0, 0, 0, 0, 0, 0, 0, 0, 0, 0, 0, 0, 0, 0, 0, 0]\n",
      "--------------------------------------------------\n"
     ]
    }
   ],
   "source": [
    "# Step 3: Cross verification - print a few examples\n",
    "for i in range(5):  # Print the first 5 examples\n",
    "    print(f\"Original Text: {x_test[i]}\")  # Here x_test[i] is padded indices, replace with original text if needed\n",
    "    print(f\"True Labels: {y_test_labels[i]}\")\n",
    "    print(f\"Predicted Labels: {y_pred_labels[i]}\")\n",
    "    print(\"-\" * 50)"
   ]
  },
  {
   "cell_type": "code",
   "execution_count": 28,
   "id": "4950ffae-e01a-400d-bdf0-15bb40e9f237",
   "metadata": {},
   "outputs": [
    {
     "data": {
      "text/plain": [
       "'\\nfor i in range(5): \\n    print(f\"Original Text: {x_test[i]}\")  \\n    print(f\"True Labels: {y_test_labels[i]}\")\\n    print(f\"Predicted Labels: {y_pred_labels[i]}\")\\n    print(\"-\" * 50)\\n    '"
      ]
     },
     "execution_count": 28,
     "metadata": {},
     "output_type": "execute_result"
    }
   ],
   "source": [
    "'''\n",
    "for i in range(5): \n",
    "    print(f\"Original Text: {x_test[i]}\")  \n",
    "    print(f\"True Labels: {y_test_labels[i]}\")\n",
    "    print(f\"Predicted Labels: {y_pred_labels[i]}\")\n",
    "    print(\"-\" * 50)\n",
    "    '''"
   ]
  },
  {
   "cell_type": "code",
   "execution_count": 29,
   "id": "98522564-e75d-48ea-826b-e8ab0351a4d1",
   "metadata": {},
   "outputs": [],
   "source": [
    "def compute_accuracy(y_true, y_pred):\n",
    "    total_labels = 0\n",
    "    correct_predictions = 0\n",
    "    for true_sentence, pred_sentence in zip(y_true, y_pred):\n",
    "        for true_label, pred_label in zip(true_sentence, pred_sentence):\n",
    "            if true_label != 0: \n",
    "                total_labels += 1\n",
    "                if true_label == pred_label:\n",
    "                    correct_predictions += 1\n",
    "    return correct_predictions / total_labels"
   ]
  },
  {
   "cell_type": "code",
   "execution_count": 30,
   "id": "af9340b0-a976-441d-a16a-7588a1d1d77b",
   "metadata": {},
   "outputs": [
    {
     "name": "stdout",
     "output_type": "stream",
     "text": [
      "Accuracy: 0.9377\n"
     ]
    }
   ],
   "source": [
    "y_pred = np.argmax(y_pred_prob, axis=-1)\n",
    "accuracy = compute_accuracy(y_test, y_pred)\n",
    "print(f\"Accuracy: {accuracy:.4f}\")"
   ]
  },
  {
   "cell_type": "code",
   "execution_count": null,
   "id": "c34fe5cb-ac85-4493-a3f1-691e37cb3f70",
   "metadata": {},
   "outputs": [],
   "source": []
  }
 ],
 "metadata": {
  "kernelspec": {
   "display_name": "Python 3 (ipykernel)",
   "language": "python",
   "name": "python3"
  },
  "language_info": {
   "codemirror_mode": {
    "name": "ipython",
    "version": 3
   },
   "file_extension": ".py",
   "mimetype": "text/x-python",
   "name": "python",
   "nbconvert_exporter": "python",
   "pygments_lexer": "ipython3",
   "version": "3.10.14"
  }
 },
 "nbformat": 4,
 "nbformat_minor": 5
}
